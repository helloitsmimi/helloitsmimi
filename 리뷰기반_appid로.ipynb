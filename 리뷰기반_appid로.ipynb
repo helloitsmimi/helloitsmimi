{
  "nbformat": 4,
  "nbformat_minor": 0,
  "metadata": {
    "colab": {
      "name": "리뷰기반 - appid로.ipynb",
      "provenance": [],
      "collapsed_sections": [],
      "machine_shape": "hm",
      "authorship_tag": "ABX9TyMP04D4GyO2d/knVepcJE8z"
    },
    "kernelspec": {
      "name": "python3",
      "display_name": "Python 3"
    },
    "language_info": {
      "name": "python"
    },
    "gpuClass": "standard"
  },
  "cells": [
    {
      "cell_type": "code",
      "execution_count": null,
      "metadata": {
        "colab": {
          "base_uri": "https://localhost:8080/"
        },
        "id": "ch0uDOG6cel7",
        "outputId": "d40d828a-e5be-4656-91ad-52842174dee9"
      },
      "outputs": [
        {
          "output_type": "stream",
          "name": "stdout",
          "text": [
            "Mounted at /content/drive\n",
            "/content/drive/MyDrive/멀티캠퍼스 파이썬/최종 프로젝트\n"
          ]
        }
      ],
      "source": [
        "#드라이브 마운트\n",
        "from google.colab import drive\n",
        "drive.mount('/content/drive')\n",
        "\n",
        "#현재 작업 위치 이동\n",
        "#띄어쓰기에 \\붙일 것\n",
        "%cd /content/drive/MyDrive/멀티캠퍼스 파이썬/최종 프로젝트"
      ]
    },
    {
      "cell_type": "code",
      "source": [
        "# 패키지 설치\n",
        "\n",
        "import tensorflow as tf\n",
        "import pandas as pd\n",
        "from tqdm import tqdm\n",
        "from tensorflow.keras.preprocessing.text import Tokenizer\n",
        "import numpy as np\n",
        "from gensim.models.doc2vec import Doc2Vec, TaggedDocument\n",
        "from tensorflow.keras.preprocessing.text import text_to_word_sequence\n",
        "from tensorflow.keras.models import load_model\n",
        "from sklearn.base import BaseEstimator\n",
        "from sklearn.model_selection import GridSearchCV\n",
        "# import matplotlib.pyplot as plt\n",
        "from nltk.corpus import stopwords\n",
        "from nltk.tokenize import word_tokenize \n",
        "import re\n",
        "import nltk\n",
        "import joblib\n",
        "import pickle\n",
        "nltk.download('stopwords')\n",
        "nltk.download('punkt')"
      ],
      "metadata": {
        "colab": {
          "base_uri": "https://localhost:8080/"
        },
        "id": "2cDnD_XcWxCo",
        "outputId": "7fa8416e-a6a6-41e9-b7b0-c78831bd38cd"
      },
      "execution_count": null,
      "outputs": [
        {
          "output_type": "stream",
          "name": "stderr",
          "text": [
            "[nltk_data] Downloading package stopwords to /root/nltk_data...\n",
            "[nltk_data]   Unzipping corpora/stopwords.zip.\n",
            "[nltk_data] Downloading package punkt to /root/nltk_data...\n",
            "[nltk_data]   Unzipping tokenizers/punkt.zip.\n"
          ]
        },
        {
          "output_type": "execute_result",
          "data": {
            "text/plain": [
              "True"
            ]
          },
          "metadata": {},
          "execution_count": 2
        }
      ]
    },
    {
      "cell_type": "code",
      "source": [
        "# 메타 전문가 리뷰\n",
        "\n",
        "critic_data = pd.read_csv('./data/meta_final/meta_meta_mart.csv')\n",
        "\n",
        "# game / review 열로 가져오기, 조건 설정\n",
        "d1 = critic_data[(critic_data['platform']=='pc') & (critic_data['criticscore']>=75)][['appid', 'criticcontent']]\n",
        "\n",
        "# 이름 각각 game, score으로 변경\n",
        "d1.rename(columns = {'appid':'game', 'criticcontent':'review'}, inplace = True)\n",
        "\n",
        "# 리뷰 NaN값인 행 제거\n",
        "d1.dropna(subset=['review'], inplace=True) \n",
        "\n",
        "\n",
        "\n",
        "# 메타 유저 리뷰\n",
        "\n",
        "user_data = pd.read_csv(\"./data/meta_final/meta_user_mart.csv\")\n",
        "\n",
        "# game / review 열로 가져오기, 조건 설정\n",
        "d2 = user_data[(user_data['platform']=='pc') & (user_data['userscore']>7.5)][['appid', 'usercontent']]\n",
        "\n",
        "# 이름 각각 user, game, score으로 변경\n",
        "d2.rename(columns = {'appid':'game', 'usercontent':'review'}, inplace = True)\n",
        "\n",
        "# 리뷰 NaN값인 행 제거\n",
        "d2.dropna(subset=['review'], inplace=True) \n",
        "\n",
        "\n",
        "\n",
        "\n",
        "# 스팀 리뷰 데이터\n",
        "\n",
        "steam_review = pd.read_csv(\"./data/steam_data/for_mimi.csv\")\n",
        "\n",
        "steam_review.dropna(subset=['review'], inplace=True) # 리뷰 NaN값인 행 제거\n",
        "steam_review.dropna(subset=['weighted_vote_score'], inplace=True) # weighted_vote_score NaN값인 행 제거\n",
        "steam_review.dropna(subset=['voted_up'], inplace=True) # voted_up NaN값인 행 제거\n",
        "steam_review.dropna(subset=['appid'], inplace=True) # appid NaN값인 행 제거\n",
        "\n",
        "d3 = steam_review[(steam_review['voted_up']==True) & (steam_review['weighted_vote_score']>=0.75)][['appid', 'review']]\n",
        "\n",
        "# 이름 각각 game, score으로 변경\n",
        "d3.rename(columns = {'appid':'game'}, inplace = True)\n",
        "\n",
        "\n",
        "\n",
        "\n",
        "# d1, d2, d3 합치기\n",
        "total_data = pd.concat([d1, d2, d3])\n",
        "# nan값 있는 행 제거\n",
        "total_data.dropna(inplace=True)\n",
        "# 게임 명 공백인 행 제거\n",
        "drop_index = total_data[total_data['game']==''].index\n",
        "total_data.drop(drop_index, axis='index', inplace=True)\n",
        "# game열 타입 float에서 int로\n",
        "total_data = total_data.astype({'game':'int'})\n",
        "\n",
        "total_data.head()"
      ],
      "metadata": {
        "id": "gmL9rr2hXHOh",
        "colab": {
          "base_uri": "https://localhost:8080/",
          "height": 262
        },
        "outputId": "e078a2da-dfb6-4c95-f077-a661ea2e9847"
      },
      "execution_count": null,
      "outputs": [
        {
          "output_type": "stream",
          "name": "stderr",
          "text": [
            "/usr/local/lib/python3.7/dist-packages/IPython/core/interactiveshell.py:2882: DtypeWarning: Columns (3,7) have mixed types.Specify dtype option on import or set low_memory=False.\n",
            "  exec(code_obj, self.user_global_ns, self.user_ns)\n"
          ]
        },
        {
          "output_type": "execute_result",
          "data": {
            "text/plain": [
              "       game                                             review\n",
              "0  632470.0  Traversing the mind of your character is as mu...\n",
              "1  632470.0  Disco Elysium – The Final Cut is something rar...\n",
              "2  632470.0  Enhanced with fantastic and fresh content, Dis...\n",
              "3  632470.0  A fully voiced cast and new content of compara...\n",
              "4  632470.0  Disco Elysium: The Final Cut doesn't shy away ..."
            ],
            "text/html": [
              "\n",
              "  <div id=\"df-77af47c2-fa93-4bf8-8085-f1de52955ee4\">\n",
              "    <div class=\"colab-df-container\">\n",
              "      <div>\n",
              "<style scoped>\n",
              "    .dataframe tbody tr th:only-of-type {\n",
              "        vertical-align: middle;\n",
              "    }\n",
              "\n",
              "    .dataframe tbody tr th {\n",
              "        vertical-align: top;\n",
              "    }\n",
              "\n",
              "    .dataframe thead th {\n",
              "        text-align: right;\n",
              "    }\n",
              "</style>\n",
              "<table border=\"1\" class=\"dataframe\">\n",
              "  <thead>\n",
              "    <tr style=\"text-align: right;\">\n",
              "      <th></th>\n",
              "      <th>game</th>\n",
              "      <th>review</th>\n",
              "    </tr>\n",
              "  </thead>\n",
              "  <tbody>\n",
              "    <tr>\n",
              "      <th>0</th>\n",
              "      <td>632470.0</td>\n",
              "      <td>Traversing the mind of your character is as mu...</td>\n",
              "    </tr>\n",
              "    <tr>\n",
              "      <th>1</th>\n",
              "      <td>632470.0</td>\n",
              "      <td>Disco Elysium – The Final Cut is something rar...</td>\n",
              "    </tr>\n",
              "    <tr>\n",
              "      <th>2</th>\n",
              "      <td>632470.0</td>\n",
              "      <td>Enhanced with fantastic and fresh content, Dis...</td>\n",
              "    </tr>\n",
              "    <tr>\n",
              "      <th>3</th>\n",
              "      <td>632470.0</td>\n",
              "      <td>A fully voiced cast and new content of compara...</td>\n",
              "    </tr>\n",
              "    <tr>\n",
              "      <th>4</th>\n",
              "      <td>632470.0</td>\n",
              "      <td>Disco Elysium: The Final Cut doesn't shy away ...</td>\n",
              "    </tr>\n",
              "  </tbody>\n",
              "</table>\n",
              "</div>\n",
              "      <button class=\"colab-df-convert\" onclick=\"convertToInteractive('df-77af47c2-fa93-4bf8-8085-f1de52955ee4')\"\n",
              "              title=\"Convert this dataframe to an interactive table.\"\n",
              "              style=\"display:none;\">\n",
              "        \n",
              "  <svg xmlns=\"http://www.w3.org/2000/svg\" height=\"24px\"viewBox=\"0 0 24 24\"\n",
              "       width=\"24px\">\n",
              "    <path d=\"M0 0h24v24H0V0z\" fill=\"none\"/>\n",
              "    <path d=\"M18.56 5.44l.94 2.06.94-2.06 2.06-.94-2.06-.94-.94-2.06-.94 2.06-2.06.94zm-11 1L8.5 8.5l.94-2.06 2.06-.94-2.06-.94L8.5 2.5l-.94 2.06-2.06.94zm10 10l.94 2.06.94-2.06 2.06-.94-2.06-.94-.94-2.06-.94 2.06-2.06.94z\"/><path d=\"M17.41 7.96l-1.37-1.37c-.4-.4-.92-.59-1.43-.59-.52 0-1.04.2-1.43.59L10.3 9.45l-7.72 7.72c-.78.78-.78 2.05 0 2.83L4 21.41c.39.39.9.59 1.41.59.51 0 1.02-.2 1.41-.59l7.78-7.78 2.81-2.81c.8-.78.8-2.07 0-2.86zM5.41 20L4 18.59l7.72-7.72 1.47 1.35L5.41 20z\"/>\n",
              "  </svg>\n",
              "      </button>\n",
              "      \n",
              "  <style>\n",
              "    .colab-df-container {\n",
              "      display:flex;\n",
              "      flex-wrap:wrap;\n",
              "      gap: 12px;\n",
              "    }\n",
              "\n",
              "    .colab-df-convert {\n",
              "      background-color: #E8F0FE;\n",
              "      border: none;\n",
              "      border-radius: 50%;\n",
              "      cursor: pointer;\n",
              "      display: none;\n",
              "      fill: #1967D2;\n",
              "      height: 32px;\n",
              "      padding: 0 0 0 0;\n",
              "      width: 32px;\n",
              "    }\n",
              "\n",
              "    .colab-df-convert:hover {\n",
              "      background-color: #E2EBFA;\n",
              "      box-shadow: 0px 1px 2px rgba(60, 64, 67, 0.3), 0px 1px 3px 1px rgba(60, 64, 67, 0.15);\n",
              "      fill: #174EA6;\n",
              "    }\n",
              "\n",
              "    [theme=dark] .colab-df-convert {\n",
              "      background-color: #3B4455;\n",
              "      fill: #D2E3FC;\n",
              "    }\n",
              "\n",
              "    [theme=dark] .colab-df-convert:hover {\n",
              "      background-color: #434B5C;\n",
              "      box-shadow: 0px 1px 3px 1px rgba(0, 0, 0, 0.15);\n",
              "      filter: drop-shadow(0px 1px 2px rgba(0, 0, 0, 0.3));\n",
              "      fill: #FFFFFF;\n",
              "    }\n",
              "  </style>\n",
              "\n",
              "      <script>\n",
              "        const buttonEl =\n",
              "          document.querySelector('#df-77af47c2-fa93-4bf8-8085-f1de52955ee4 button.colab-df-convert');\n",
              "        buttonEl.style.display =\n",
              "          google.colab.kernel.accessAllowed ? 'block' : 'none';\n",
              "\n",
              "        async function convertToInteractive(key) {\n",
              "          const element = document.querySelector('#df-77af47c2-fa93-4bf8-8085-f1de52955ee4');\n",
              "          const dataTable =\n",
              "            await google.colab.kernel.invokeFunction('convertToInteractive',\n",
              "                                                     [key], {});\n",
              "          if (!dataTable) return;\n",
              "\n",
              "          const docLinkHtml = 'Like what you see? Visit the ' +\n",
              "            '<a target=\"_blank\" href=https://colab.research.google.com/notebooks/data_table.ipynb>data table notebook</a>'\n",
              "            + ' to learn more about interactive tables.';\n",
              "          element.innerHTML = '';\n",
              "          dataTable['output_type'] = 'display_data';\n",
              "          await google.colab.output.renderOutput(dataTable, element);\n",
              "          const docLink = document.createElement('div');\n",
              "          docLink.innerHTML = docLinkHtml;\n",
              "          element.appendChild(docLink);\n",
              "        }\n",
              "      </script>\n",
              "    </div>\n",
              "  </div>\n",
              "  "
            ]
          },
          "metadata": {},
          "execution_count": 3
        }
      ]
    },
    {
      "cell_type": "code",
      "source": [
        "\n",
        "total_data.info()"
      ],
      "metadata": {
        "colab": {
          "base_uri": "https://localhost:8080/"
        },
        "id": "vHNm2PNZaAPo",
        "outputId": "062fd131-7f16-46c8-9f35-dafbe9fb93f8"
      },
      "execution_count": null,
      "outputs": [
        {
          "output_type": "stream",
          "name": "stdout",
          "text": [
            "<class 'pandas.core.frame.DataFrame'>\n",
            "Int64Index: 185878 entries, 0 to 11972685\n",
            "Data columns (total 2 columns):\n",
            " #   Column  Non-Null Count   Dtype \n",
            "---  ------  --------------   ----- \n",
            " 0   game    185878 non-null  int64 \n",
            " 1   review  185878 non-null  object\n",
            "dtypes: int64(1), object(1)\n",
            "memory usage: 4.3+ MB\n"
          ]
        }
      ]
    },
    {
      "cell_type": "code",
      "source": [
        "total_data.head()"
      ],
      "metadata": {
        "colab": {
          "base_uri": "https://localhost:8080/",
          "height": 206
        },
        "id": "gNCPCtxwanWZ",
        "outputId": "de47766d-b677-43c2-edd3-e38bbecc3d48"
      },
      "execution_count": null,
      "outputs": [
        {
          "output_type": "execute_result",
          "data": {
            "text/plain": [
              "     game                                             review\n",
              "0  632470  Traversing the mind of your character is as mu...\n",
              "1  632470  Disco Elysium – The Final Cut is something rar...\n",
              "2  632470  Enhanced with fantastic and fresh content, Dis...\n",
              "3  632470  A fully voiced cast and new content of compara...\n",
              "4  632470  Disco Elysium: The Final Cut doesn't shy away ..."
            ],
            "text/html": [
              "\n",
              "  <div id=\"df-77a95aee-25a6-43f3-ae59-ef4e218acbba\">\n",
              "    <div class=\"colab-df-container\">\n",
              "      <div>\n",
              "<style scoped>\n",
              "    .dataframe tbody tr th:only-of-type {\n",
              "        vertical-align: middle;\n",
              "    }\n",
              "\n",
              "    .dataframe tbody tr th {\n",
              "        vertical-align: top;\n",
              "    }\n",
              "\n",
              "    .dataframe thead th {\n",
              "        text-align: right;\n",
              "    }\n",
              "</style>\n",
              "<table border=\"1\" class=\"dataframe\">\n",
              "  <thead>\n",
              "    <tr style=\"text-align: right;\">\n",
              "      <th></th>\n",
              "      <th>game</th>\n",
              "      <th>review</th>\n",
              "    </tr>\n",
              "  </thead>\n",
              "  <tbody>\n",
              "    <tr>\n",
              "      <th>0</th>\n",
              "      <td>632470</td>\n",
              "      <td>Traversing the mind of your character is as mu...</td>\n",
              "    </tr>\n",
              "    <tr>\n",
              "      <th>1</th>\n",
              "      <td>632470</td>\n",
              "      <td>Disco Elysium – The Final Cut is something rar...</td>\n",
              "    </tr>\n",
              "    <tr>\n",
              "      <th>2</th>\n",
              "      <td>632470</td>\n",
              "      <td>Enhanced with fantastic and fresh content, Dis...</td>\n",
              "    </tr>\n",
              "    <tr>\n",
              "      <th>3</th>\n",
              "      <td>632470</td>\n",
              "      <td>A fully voiced cast and new content of compara...</td>\n",
              "    </tr>\n",
              "    <tr>\n",
              "      <th>4</th>\n",
              "      <td>632470</td>\n",
              "      <td>Disco Elysium: The Final Cut doesn't shy away ...</td>\n",
              "    </tr>\n",
              "  </tbody>\n",
              "</table>\n",
              "</div>\n",
              "      <button class=\"colab-df-convert\" onclick=\"convertToInteractive('df-77a95aee-25a6-43f3-ae59-ef4e218acbba')\"\n",
              "              title=\"Convert this dataframe to an interactive table.\"\n",
              "              style=\"display:none;\">\n",
              "        \n",
              "  <svg xmlns=\"http://www.w3.org/2000/svg\" height=\"24px\"viewBox=\"0 0 24 24\"\n",
              "       width=\"24px\">\n",
              "    <path d=\"M0 0h24v24H0V0z\" fill=\"none\"/>\n",
              "    <path d=\"M18.56 5.44l.94 2.06.94-2.06 2.06-.94-2.06-.94-.94-2.06-.94 2.06-2.06.94zm-11 1L8.5 8.5l.94-2.06 2.06-.94-2.06-.94L8.5 2.5l-.94 2.06-2.06.94zm10 10l.94 2.06.94-2.06 2.06-.94-2.06-.94-.94-2.06-.94 2.06-2.06.94z\"/><path d=\"M17.41 7.96l-1.37-1.37c-.4-.4-.92-.59-1.43-.59-.52 0-1.04.2-1.43.59L10.3 9.45l-7.72 7.72c-.78.78-.78 2.05 0 2.83L4 21.41c.39.39.9.59 1.41.59.51 0 1.02-.2 1.41-.59l7.78-7.78 2.81-2.81c.8-.78.8-2.07 0-2.86zM5.41 20L4 18.59l7.72-7.72 1.47 1.35L5.41 20z\"/>\n",
              "  </svg>\n",
              "      </button>\n",
              "      \n",
              "  <style>\n",
              "    .colab-df-container {\n",
              "      display:flex;\n",
              "      flex-wrap:wrap;\n",
              "      gap: 12px;\n",
              "    }\n",
              "\n",
              "    .colab-df-convert {\n",
              "      background-color: #E8F0FE;\n",
              "      border: none;\n",
              "      border-radius: 50%;\n",
              "      cursor: pointer;\n",
              "      display: none;\n",
              "      fill: #1967D2;\n",
              "      height: 32px;\n",
              "      padding: 0 0 0 0;\n",
              "      width: 32px;\n",
              "    }\n",
              "\n",
              "    .colab-df-convert:hover {\n",
              "      background-color: #E2EBFA;\n",
              "      box-shadow: 0px 1px 2px rgba(60, 64, 67, 0.3), 0px 1px 3px 1px rgba(60, 64, 67, 0.15);\n",
              "      fill: #174EA6;\n",
              "    }\n",
              "\n",
              "    [theme=dark] .colab-df-convert {\n",
              "      background-color: #3B4455;\n",
              "      fill: #D2E3FC;\n",
              "    }\n",
              "\n",
              "    [theme=dark] .colab-df-convert:hover {\n",
              "      background-color: #434B5C;\n",
              "      box-shadow: 0px 1px 3px 1px rgba(0, 0, 0, 0.15);\n",
              "      filter: drop-shadow(0px 1px 2px rgba(0, 0, 0, 0.3));\n",
              "      fill: #FFFFFF;\n",
              "    }\n",
              "  </style>\n",
              "\n",
              "      <script>\n",
              "        const buttonEl =\n",
              "          document.querySelector('#df-77a95aee-25a6-43f3-ae59-ef4e218acbba button.colab-df-convert');\n",
              "        buttonEl.style.display =\n",
              "          google.colab.kernel.accessAllowed ? 'block' : 'none';\n",
              "\n",
              "        async function convertToInteractive(key) {\n",
              "          const element = document.querySelector('#df-77a95aee-25a6-43f3-ae59-ef4e218acbba');\n",
              "          const dataTable =\n",
              "            await google.colab.kernel.invokeFunction('convertToInteractive',\n",
              "                                                     [key], {});\n",
              "          if (!dataTable) return;\n",
              "\n",
              "          const docLinkHtml = 'Like what you see? Visit the ' +\n",
              "            '<a target=\"_blank\" href=https://colab.research.google.com/notebooks/data_table.ipynb>data table notebook</a>'\n",
              "            + ' to learn more about interactive tables.';\n",
              "          element.innerHTML = '';\n",
              "          dataTable['output_type'] = 'display_data';\n",
              "          await google.colab.output.renderOutput(dataTable, element);\n",
              "          const docLink = document.createElement('div');\n",
              "          docLink.innerHTML = docLinkHtml;\n",
              "          element.appendChild(docLink);\n",
              "        }\n",
              "      </script>\n",
              "    </div>\n",
              "  </div>\n",
              "  "
            ]
          },
          "metadata": {},
          "execution_count": 8
        }
      ]
    },
    {
      "cell_type": "code",
      "source": [
        "# 희귀단어 기준 계산\n",
        "# tokenizer로 total_data['review'] 단어사전 만들고 희귀단어 비율 보기\n",
        "\n",
        "tok = Tokenizer() # 토크나이저 할당\n",
        "tok.fit_on_texts(total_data['review']) # 리뷰 데이터로 토크나이저 학습\n",
        "\n",
        "# 등장 빈도수가 3회 이하 단어를 희귀단어로 취급\n",
        "threshold = 3\n",
        "total_cnt = len(tok.word_index) # 토크나이저가 생성한 단어사전의 단어 수\n",
        "rare_cnt = 0 # 등장 빈도수가 threshold보다 작은 단어의 개수를 카운트\n",
        "total_freq = 0 # 훈련 데이터의 전체 단어 빈도수 총 합\n",
        "\n",
        "for key, value in tok.word_counts.items():\n",
        "    total_freq = total_freq + value\n",
        "    if(value <= threshold):\n",
        "        rare_cnt = rare_cnt + 1\n",
        "\n",
        "# 희귀단어 기준\n",
        "vocab_size = total_cnt- rare_cnt + 1 "
      ],
      "metadata": {
        "id": "ysFKOrQyb9WJ"
      },
      "execution_count": null,
      "outputs": []
    },
    {
      "cell_type": "code",
      "source": [
        "vocab_size"
      ],
      "metadata": {
        "colab": {
          "base_uri": "https://localhost:8080/"
        },
        "id": "UzEMFRrscGXx",
        "outputId": "cd2250f3-73bb-4dd5-ca7b-31756f4b563b"
      },
      "execution_count": null,
      "outputs": [
        {
          "output_type": "execute_result",
          "data": {
            "text/plain": [
              "50316"
            ]
          },
          "metadata": {},
          "execution_count": 10
        }
      ]
    },
    {
      "cell_type": "code",
      "source": [
        "# 전처리\n",
        "def remain_engnum(sentence):\n",
        "  sentence = re.sub('[^a-zA-Z0-9]+', ' ', sentence)\n",
        "  return sentence\n",
        "\n",
        "tqdm.pandas()\n",
        "# 영어, 숫자만 빼고 제거\n",
        "total_data['review'] = total_data['review'].progress_apply(lambda x:remain_engnum(x))\n",
        "\n",
        "# 소문자화\n",
        "total_data['review']= total_data['review'].apply(lambda x: x.lower())\n",
        "\n",
        "# 게임 별로 리뷰 합치기\n",
        "game_review = pd.DataFrame(total_data['game'].unique(), columns=['game'])\n",
        "\n",
        "for game in tqdm(total_data['game'].unique()):\n",
        "  game_review.loc[game_review['game']==game, 'review'] = \" \".join(total_data[total_data['game']==game]['review'])\n",
        "\n",
        "# 희귀단어 제거를 위한 토크나이저 생성\n",
        "total_tokenizer = Tokenizer(num_words = vocab_size) # 단어사전 생성\n",
        "total_tokenizer.fit_on_texts(game_review['review']) # 학습\n",
        "\n",
        "# 단어사전에서 인덱스가 71297 초과인 단어(=희귀단어) 제거\n",
        "words_frequency = [word for word, index in total_tokenizer.word_index.items() if index >= vocab_size + 1]\n",
        "for word in words_frequency:\n",
        "    del total_tokenizer.word_index[word] # 해당 단어에 대한 인덱스 정보를 삭제\n",
        "    del total_tokenizer.word_counts[word] # 해당 단어에 대한 카운트 정보를 삭제\n",
        "\n",
        "# 토큰화\n",
        "game_review['review'] = game_review['review'].progress_apply(lambda x:text_to_word_sequence(x))\n",
        "\n",
        "# 희귀단어 제거 함수\n",
        "def remain_word(review):\n",
        "  result = []\n",
        "  for word in review:\n",
        "    if word in total_tokenizer.word_index.keys():\n",
        "      result.append(word)\n",
        "  return result\n",
        "\n",
        "game_review['review'] = game_review['review'].progress_apply(lambda x:remain_word(x))\n",
        "\n",
        "# 불용어 제거\n",
        "stop_words = set(stopwords.words('english'))\n",
        "\n",
        "def remove_stopwords(text): \n",
        "    output= [i for i in text if i not in stop_words] \n",
        "    return output\n",
        "\n",
        "game_review['review'] = game_review['review'].progress_apply(lambda x:remove_stopwords(x))"
      ],
      "metadata": {
        "colab": {
          "base_uri": "https://localhost:8080/"
        },
        "id": "mVJsMgg-_mzM",
        "outputId": "1725519c-9e51-4944-e3b4-b7476385d3f9"
      },
      "execution_count": null,
      "outputs": [
        {
          "output_type": "stream",
          "name": "stderr",
          "text": [
            "100%|██████████| 185878/185878 [00:04<00:00, 38752.55it/s]\n",
            "100%|██████████| 7939/7939 [00:13<00:00, 582.54it/s]\n",
            "100%|██████████| 7939/7939 [00:05<00:00, 1513.23it/s]\n",
            "100%|██████████| 7939/7939 [00:05<00:00, 1455.36it/s]\n",
            "100%|██████████| 7939/7939 [00:01<00:00, 4999.30it/s]\n"
          ]
        }
      ]
    },
    {
      "cell_type": "code",
      "source": [
        "game_review.head()"
      ],
      "metadata": {
        "colab": {
          "base_uri": "https://localhost:8080/",
          "height": 206
        },
        "id": "WIZCY_aMBpn9",
        "outputId": "2e3b942f-8db8-4718-ba31-189d290e87c9"
      },
      "execution_count": null,
      "outputs": [
        {
          "output_type": "execute_result",
          "data": {
            "text/plain": [
              "      game                                             review\n",
              "0   632470  [traversing, mind, character, much, plot, case...\n",
              "1      220  [nothing, less, revolution, gaming, industry, ...\n",
              "2       70  [everyday, come, across, game, totally, revolu...\n",
              "3      620  [portal, 2, masterpiece, work, art, love, inge...\n",
              "4  1245620  [elden, ring, walking, example, 10, 10, game, ..."
            ],
            "text/html": [
              "\n",
              "  <div id=\"df-3a961b31-c160-427d-a0ad-b34e88156b48\">\n",
              "    <div class=\"colab-df-container\">\n",
              "      <div>\n",
              "<style scoped>\n",
              "    .dataframe tbody tr th:only-of-type {\n",
              "        vertical-align: middle;\n",
              "    }\n",
              "\n",
              "    .dataframe tbody tr th {\n",
              "        vertical-align: top;\n",
              "    }\n",
              "\n",
              "    .dataframe thead th {\n",
              "        text-align: right;\n",
              "    }\n",
              "</style>\n",
              "<table border=\"1\" class=\"dataframe\">\n",
              "  <thead>\n",
              "    <tr style=\"text-align: right;\">\n",
              "      <th></th>\n",
              "      <th>game</th>\n",
              "      <th>review</th>\n",
              "    </tr>\n",
              "  </thead>\n",
              "  <tbody>\n",
              "    <tr>\n",
              "      <th>0</th>\n",
              "      <td>632470</td>\n",
              "      <td>[traversing, mind, character, much, plot, case...</td>\n",
              "    </tr>\n",
              "    <tr>\n",
              "      <th>1</th>\n",
              "      <td>220</td>\n",
              "      <td>[nothing, less, revolution, gaming, industry, ...</td>\n",
              "    </tr>\n",
              "    <tr>\n",
              "      <th>2</th>\n",
              "      <td>70</td>\n",
              "      <td>[everyday, come, across, game, totally, revolu...</td>\n",
              "    </tr>\n",
              "    <tr>\n",
              "      <th>3</th>\n",
              "      <td>620</td>\n",
              "      <td>[portal, 2, masterpiece, work, art, love, inge...</td>\n",
              "    </tr>\n",
              "    <tr>\n",
              "      <th>4</th>\n",
              "      <td>1245620</td>\n",
              "      <td>[elden, ring, walking, example, 10, 10, game, ...</td>\n",
              "    </tr>\n",
              "  </tbody>\n",
              "</table>\n",
              "</div>\n",
              "      <button class=\"colab-df-convert\" onclick=\"convertToInteractive('df-3a961b31-c160-427d-a0ad-b34e88156b48')\"\n",
              "              title=\"Convert this dataframe to an interactive table.\"\n",
              "              style=\"display:none;\">\n",
              "        \n",
              "  <svg xmlns=\"http://www.w3.org/2000/svg\" height=\"24px\"viewBox=\"0 0 24 24\"\n",
              "       width=\"24px\">\n",
              "    <path d=\"M0 0h24v24H0V0z\" fill=\"none\"/>\n",
              "    <path d=\"M18.56 5.44l.94 2.06.94-2.06 2.06-.94-2.06-.94-.94-2.06-.94 2.06-2.06.94zm-11 1L8.5 8.5l.94-2.06 2.06-.94-2.06-.94L8.5 2.5l-.94 2.06-2.06.94zm10 10l.94 2.06.94-2.06 2.06-.94-2.06-.94-.94-2.06-.94 2.06-2.06.94z\"/><path d=\"M17.41 7.96l-1.37-1.37c-.4-.4-.92-.59-1.43-.59-.52 0-1.04.2-1.43.59L10.3 9.45l-7.72 7.72c-.78.78-.78 2.05 0 2.83L4 21.41c.39.39.9.59 1.41.59.51 0 1.02-.2 1.41-.59l7.78-7.78 2.81-2.81c.8-.78.8-2.07 0-2.86zM5.41 20L4 18.59l7.72-7.72 1.47 1.35L5.41 20z\"/>\n",
              "  </svg>\n",
              "      </button>\n",
              "      \n",
              "  <style>\n",
              "    .colab-df-container {\n",
              "      display:flex;\n",
              "      flex-wrap:wrap;\n",
              "      gap: 12px;\n",
              "    }\n",
              "\n",
              "    .colab-df-convert {\n",
              "      background-color: #E8F0FE;\n",
              "      border: none;\n",
              "      border-radius: 50%;\n",
              "      cursor: pointer;\n",
              "      display: none;\n",
              "      fill: #1967D2;\n",
              "      height: 32px;\n",
              "      padding: 0 0 0 0;\n",
              "      width: 32px;\n",
              "    }\n",
              "\n",
              "    .colab-df-convert:hover {\n",
              "      background-color: #E2EBFA;\n",
              "      box-shadow: 0px 1px 2px rgba(60, 64, 67, 0.3), 0px 1px 3px 1px rgba(60, 64, 67, 0.15);\n",
              "      fill: #174EA6;\n",
              "    }\n",
              "\n",
              "    [theme=dark] .colab-df-convert {\n",
              "      background-color: #3B4455;\n",
              "      fill: #D2E3FC;\n",
              "    }\n",
              "\n",
              "    [theme=dark] .colab-df-convert:hover {\n",
              "      background-color: #434B5C;\n",
              "      box-shadow: 0px 1px 3px 1px rgba(0, 0, 0, 0.15);\n",
              "      filter: drop-shadow(0px 1px 2px rgba(0, 0, 0, 0.3));\n",
              "      fill: #FFFFFF;\n",
              "    }\n",
              "  </style>\n",
              "\n",
              "      <script>\n",
              "        const buttonEl =\n",
              "          document.querySelector('#df-3a961b31-c160-427d-a0ad-b34e88156b48 button.colab-df-convert');\n",
              "        buttonEl.style.display =\n",
              "          google.colab.kernel.accessAllowed ? 'block' : 'none';\n",
              "\n",
              "        async function convertToInteractive(key) {\n",
              "          const element = document.querySelector('#df-3a961b31-c160-427d-a0ad-b34e88156b48');\n",
              "          const dataTable =\n",
              "            await google.colab.kernel.invokeFunction('convertToInteractive',\n",
              "                                                     [key], {});\n",
              "          if (!dataTable) return;\n",
              "\n",
              "          const docLinkHtml = 'Like what you see? Visit the ' +\n",
              "            '<a target=\"_blank\" href=https://colab.research.google.com/notebooks/data_table.ipynb>data table notebook</a>'\n",
              "            + ' to learn more about interactive tables.';\n",
              "          element.innerHTML = '';\n",
              "          dataTable['output_type'] = 'display_data';\n",
              "          await google.colab.output.renderOutput(dataTable, element);\n",
              "          const docLink = document.createElement('div');\n",
              "          docLink.innerHTML = docLinkHtml;\n",
              "          element.appendChild(docLink);\n",
              "        }\n",
              "      </script>\n",
              "    </div>\n",
              "  </div>\n",
              "  "
            ]
          },
          "metadata": {},
          "execution_count": 12
        }
      ]
    },
    {
      "cell_type": "code",
      "source": [
        "# 데이터에 태그 달기\n",
        "\n",
        "doc_df = game_review[['game','review']].values.tolist()\n",
        "tagged_data = [TaggedDocument(words=_d, tags=[gid]) for gid, _d in doc_df]"
      ],
      "metadata": {
        "colab": {
          "base_uri": "https://localhost:8080/"
        },
        "id": "G8_1xNY_ePCt",
        "outputId": "34a1d01b-4c88-40e8-8819-5ac7f79d84f3"
      },
      "execution_count": null,
      "outputs": [
        {
          "output_type": "stream",
          "name": "stderr",
          "text": [
            "/usr/local/lib/python3.7/dist-packages/gensim/models/doc2vec.py:570: UserWarning: The parameter `size` is deprecated, will be removed in 4.0.0, use `vector_size` instead.\n",
            "  warnings.warn(\"The parameter `size` is deprecated, will be removed in 4.0.0, use `vector_size` instead.\")\n"
          ]
        }
      ]
    },
    {
      "cell_type": "code",
      "source": [
        "tagged_data[0]"
      ],
      "metadata": {
        "id": "LlCkmNCbeo6o"
      },
      "execution_count": null,
      "outputs": []
    },
    {
      "cell_type": "code",
      "source": [
        "model = Doc2Vec(\n",
        "    window=5, # 모델 학습 시 앞 뒤로 보는 단어 개수\n",
        "    size=100, # 벡터차원 크기\n",
        "    alpha=0.025, # learning rate\n",
        "    min_alpha=0.025,# min learning rate. 학습 진행될수록 alpha값이 min_alpha로 근사\n",
        "    min_count=3, # 학습에 사용할 최소 단어 빈도 수\n",
        "    dm =1, # 학습 방법 : 1-pvdm, 0-pvdbow\n",
        "    negative = 5, # complexity reudction. negative sampling 시 샘플링 할 단어 개수 지정\n",
        "    seed = 9999)"
      ],
      "metadata": {
        "colab": {
          "base_uri": "https://localhost:8080/"
        },
        "id": "p_VF_AVXfUUe",
        "outputId": "28586317-e9af-4084-e6e8-3fc9c65733da"
      },
      "execution_count": null,
      "outputs": [
        {
          "output_type": "stream",
          "name": "stderr",
          "text": [
            "/usr/local/lib/python3.7/dist-packages/gensim/models/doc2vec.py:570: UserWarning: The parameter `size` is deprecated, will be removed in 4.0.0, use `vector_size` instead.\n",
            "  warnings.warn(\"The parameter `size` is deprecated, will be removed in 4.0.0, use `vector_size` instead.\")\n"
          ]
        }
      ]
    },
    {
      "cell_type": "code",
      "source": [
        "with open('./data/appidtagdata.pkl', 'wb') as f: # wb : 피클 작성 시 / rb : 피클 열람 시\n",
        "\tpickle.dump(tagged_data, f, protocol=pickle.HIGHEST_PROTOCOL)"
      ],
      "metadata": {
        "id": "d-R3A1sofw0x"
      },
      "execution_count": null,
      "outputs": []
    },
    {
      "cell_type": "code",
      "source": [
        "model.build_vocab(tagged_data)\n",
        "\n",
        "max_epochs = 10\n",
        "\n",
        "for epoch in range(max_epochs): #10번 학습\n",
        "    print('iteration {0}'.format(epoch))\n",
        "    model.train(tagged_data,\n",
        "                total_examples=model.corpus_count,\n",
        "                epochs=model.iter)\n",
        "    # decrease the learning rate\n",
        "    model.alpha -= 0.002\n",
        "    # fix the learning rate, no decay\n",
        "    model.min_alpha = model.alpha\n",
        "\n",
        "model.save('./model/appiddoc2vec.model')"
      ],
      "metadata": {
        "colab": {
          "base_uri": "https://localhost:8080/"
        },
        "id": "ed7YSji0ewAK",
        "outputId": "664fdcdb-b380-4cc7-d5bd-8605079e5d8f"
      },
      "execution_count": null,
      "outputs": [
        {
          "output_type": "stream",
          "name": "stdout",
          "text": [
            "iteration 0\n"
          ]
        },
        {
          "output_type": "stream",
          "name": "stderr",
          "text": [
            "/usr/local/lib/python3.7/dist-packages/ipykernel_launcher.py:9: DeprecationWarning: Call to deprecated `iter` (Attribute will be removed in 4.0.0, use self.epochs instead).\n",
            "  if __name__ == '__main__':\n"
          ]
        },
        {
          "output_type": "stream",
          "name": "stdout",
          "text": [
            "iteration 1\n",
            "iteration 2\n",
            "iteration 3\n",
            "iteration 4\n",
            "iteration 5\n",
            "iteration 6\n",
            "iteration 7\n",
            "iteration 8\n",
            "iteration 9\n"
          ]
        }
      ]
    },
    {
      "cell_type": "code",
      "source": [
        "# 추천 게임 출력\n",
        "def gentleman_ver1(game1, game2, game3):\n",
        "  d1 = pd.DataFrame(model.docvecs.most_similar([game1], topn=10), columns=['game', 'similarity1']) # game1 추천목록 & 유사도\n",
        "  d2 = pd.DataFrame(model.docvecs.most_similar([game2], topn=10), columns=['game', 'similarity2']) # game2 추천목록 & 유사도\n",
        "  d3 = pd.DataFrame(model.docvecs.most_similar([game3], topn=10), columns=['game', 'similarity3']) # game3 추천목록 & 유사도\n",
        "  df = pd.merge(d1, d2, on='game', how='outer') # d1, d2 merge\n",
        "  df = pd.merge(df, d3, on='game', how='outer') # d2, d3 merge\n",
        "\n",
        "  for game in df['game']: # ['game'] 행 하나씩 돌면서 \n",
        "    if game in [game1, game2, game3]: # game이 game1, game2,m game3에 해당하는 경우\n",
        "      drop_index = df[df['game']==game].index\n",
        "      df.drop(drop_index, axis='index', inplace=True) # 해당 행 drop\n",
        "\n",
        "  # 추천 리스트 간 중복되는 게임이 없는 경우 각 추천리스트에서 2개씩 뽑음\n",
        "  if len(df) == 30: \n",
        "    return [x[0] for x in model.docvecs.most_similar([game1], topn=2)] + [x[0] for x in model.docvecs.most_similar([game2], topn=2)] + [x[0] for x in model.docvecs.most_similar([game3], topn=2)]\n",
        "  # 유사도 평균 내서 상위 6개 추출\n",
        "  else : \n",
        "    df.fillna(0, inplace=True)\n",
        "    df['mean'] = df.mean(axis=1, numeric_only=True)\n",
        "    df.sort_values('mean', ascending=False, inplace=True)\n",
        "    return list(df['game'])[:6]"
      ],
      "metadata": {
        "id": "g-A9XNSagJ5K"
      },
      "execution_count": null,
      "outputs": []
    },
    {
      "cell_type": "code",
      "source": [
        "gentleman_ver1(413150, 304430, 1172470)"
      ],
      "metadata": {
        "colab": {
          "base_uri": "https://localhost:8080/"
        },
        "id": "snzIKY4eif-t",
        "outputId": "f737c586-a425-4e23-8fb6-54e7f87ede69"
      },
      "execution_count": null,
      "outputs": [
        {
          "output_type": "execute_result",
          "data": {
            "text/plain": [
              "[666140, 433340, 424840, 231160, 1399780, 444090]"
            ]
          },
          "metadata": {},
          "execution_count": 44
        }
      ]
    },
    {
      "cell_type": "code",
      "source": [
        "info = pd.read_csv(\"./data/meta_final/mergeinfo.csv\")"
      ],
      "metadata": {
        "id": "CFzGu9mXjgB8"
      },
      "execution_count": null,
      "outputs": []
    },
    {
      "cell_type": "code",
      "source": [
        "info[info['full_name']=='CROSSCORD']['appid']"
      ],
      "metadata": {
        "colab": {
          "base_uri": "https://localhost:8080/"
        },
        "id": "5N-XSZlNjmKg",
        "outputId": "ebdf0a59-0556-46e8-aa2f-f720eea855ce"
      },
      "execution_count": null,
      "outputs": [
        {
          "output_type": "execute_result",
          "data": {
            "text/plain": [
              "Series([], Name: appid, dtype: int64)"
            ]
          },
          "metadata": {},
          "execution_count": 43
        }
      ]
    },
    {
      "cell_type": "code",
      "source": [
        "info[info['appid']==433340]['title']"
      ],
      "metadata": {
        "colab": {
          "base_uri": "https://localhost:8080/"
        },
        "id": "rFFedmONkkiN",
        "outputId": "9adfcc36-345a-493e-d49a-50cb700454a8"
      },
      "execution_count": null,
      "outputs": [
        {
          "output_type": "execute_result",
          "data": {
            "text/plain": [
              "18399    Slime Rancher\n",
              "Name: title, dtype: object"
            ]
          },
          "metadata": {},
          "execution_count": 46
        }
      ]
    }
  ]
}